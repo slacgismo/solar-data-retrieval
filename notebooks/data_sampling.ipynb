{
 "cells": [
  {
   "cell_type": "code",
   "execution_count": 6,
   "metadata": {},
   "outputs": [],
   "source": [
    "import pandas as pd \n",
    "from sys import path\n",
    "path.append('..')\n",
    "from solardatatools import standardize_time_axis, make_2d, plot_2d, load_pvo_data\n",
    "import boto3\n",
    "from solardataretrieval import utilities \n",
    "from solardataretrieval.retrieval import Retrieval"
   ]
  },
  {
   "cell_type": "code",
   "execution_count": 7,
   "metadata": {},
   "outputs": [],
   "source": [
    "#set variables here: \n",
    "#choose how many sites you want in your data pipeline\n",
    "number_of_sites = 10\n",
    "number_of_days = 3\n",
    "quantile_percent = 0.95\n",
    "#set filter thresholds and time sample (if 5 min: day_samples = 288)\n",
    "sparsity_th = 0.3\n",
    "quality_th = 0.7\n",
    "day_samples = 288"
   ]
  },
  {
   "cell_type": "code",
   "execution_count": 8,
   "metadata": {},
   "outputs": [
    {
     "name": "stdout",
     "output_type": "stream",
     "text": [
      "[============================================================] 100.0% ...\r"
     ]
    }
   ],
   "source": [
    "y = Retrieval(number_of_sites, number_of_days, quantile_percent, sparsity_th, quality_th, day_samples)\n",
    "y.data_upload()\n",
    "#df_data_input, df_meta_data = y.data_retrieval()"
   ]
  },
  {
   "cell_type": "code",
   "execution_count": 9,
   "metadata": {},
   "outputs": [],
   "source": [
    "#plot_2d(df_data_input)"
   ]
  }
 ],
 "metadata": {
  "kernelspec": {
   "display_name": "Python 3",
   "language": "python",
   "name": "python3"
  },
  "language_info": {
   "codemirror_mode": {
    "name": "ipython",
    "version": 3
   },
   "file_extension": ".py",
   "mimetype": "text/x-python",
   "name": "python",
   "nbconvert_exporter": "python",
   "pygments_lexer": "ipython3",
   "version": "3.7.3"
  }
 },
 "nbformat": 4,
 "nbformat_minor": 2
}
