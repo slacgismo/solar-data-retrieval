{
 "cells": [
  {
   "cell_type": "code",
   "execution_count": 1,
   "metadata": {},
   "outputs": [],
   "source": [
    "#from solar_data_retrieval import retrieval\n",
    "import pandas as pd \n",
    "import numpy as np\n",
    "import sys\n",
    "from sys import path\n",
    "path.append('..')\n",
    "from solardatatools import plot_2d\n",
    "import s3fs\n",
    "import boto3\n",
    "from solardatatools.clear_day_detection import filter_for_sparsity\n",
    "from os.path import expanduser\n",
    "home = expanduser('~')\n",
    "with open(home + '/.aws/credentials') as f:\n",
    "        lns = f.readlines()\n",
    "        key = lns[3].split(' = ')[1].strip('\\n')\n",
    "        secret = lns[4].split(' = ')[1].strip('\\n')\n",
    "s3 = boto3.client('s3', aws_access_key_id=key,aws_secret_access_key=secret)\n",
    "def AWS_upload(data_to_upload_df,number_of_sites, number_of_days, kind):\n",
    "    #upload to aws\n",
    "    bytes_to_write = data_to_upload_df.to_csv(None).encode()\n",
    "    fs = s3fs.S3FileSystem(key=key, secret=secret)\n",
    "    #path needs to change!\n",
    "    file_path = 's3://pv.insight.misc/data_samples/s{}_d{}_{}.csv'.format(number_of_sites,number_of_days, kind)\n",
    "    with fs.open(file_path, 'wb') as f:\n",
    "        f.write(bytes_to_write)\n",
    "        \n",
    "def progress(count, total, status='', bar_length=60):\n",
    "    \"\"\"\n",
    "    Python command line progress bar in less than 10 lines of code. · GitHub\n",
    "    https://gist.github.com/vladignatyev/06860ec2040cb497f0f3\n",
    "    :param count: the current count, int\n",
    "    :param total: to total count, int\n",
    "    :param status: a message to display\n",
    "    :return:\n",
    "    \"\"\"\n",
    "    bar_len = bar_length\n",
    "    filled_len = int(round(bar_len * count / float(total)))\n",
    "\n",
    "    percents = round(100.0 * count / float(total), 1)\n",
    "    bar = '=' * filled_len + '-' * (bar_len - filled_len)\n",
    "\n",
    "    sys.stdout.write('[%s] %s%s ...%s\\r' % (bar, percents, '%', status))\n",
    "    sys.stdout.flush()"
   ]
  },
  {
   "cell_type": "code",
   "execution_count": 2,
   "metadata": {},
   "outputs": [],
   "source": [
    "#set variables here: \n",
    "#choose how many sites you want in your data pipeline\n",
    "number_of_sites = 50\n",
    "number_of_days = 50\n",
    "quantile_percent = 0.95"
   ]
  },
  {
   "cell_type": "code",
   "execution_count": 7,
   "metadata": {},
   "outputs": [],
   "source": [
    "#base = 's3://pv.insight.sunpower.preprocessed'\n",
    "#sunpower_summary_file = pd.read_csv(base + 'summary_file.csv')\n",
    "s3.download_file('pv.insight.sunpower.preprocessed','summary_file.csv','summary_file.csv')\n",
    "sunpower_summary_file = pd.read_csv('summary_file.csv')"
   ]
  },
  {
   "cell_type": "code",
   "execution_count": 8,
   "metadata": {},
   "outputs": [],
   "source": [
    "sunpower_summary_file_goodsparsity = sunpower_summary_file.loc[sunpower_summary_file['overall_spaersity'] < 0.3]\n",
    "sunpower_summary_file_good = sunpower_summary_file_goodsparsity.loc[sunpower_summary_file_goodsparsity['overall_quality'] > 0.7]\n",
    "sunpower_summary_file_good_288 = sunpower_summary_file_good.loc[sunpower_summary_file_good['time_sample'] == 288]\n"
   ]
  },
  {
   "cell_type": "code",
   "execution_count": 9,
   "metadata": {},
   "outputs": [],
   "source": [
    "#choose site\n",
    "all_sites = sunpower_summary_file_good_288.site_ID.unique()\n",
    "site_IDs_selected = np.random.choice(all_sites, number_of_sites)"
   ]
  },
  {
   "cell_type": "code",
   "execution_count": 10,
   "metadata": {},
   "outputs": [],
   "source": [
    "#choose sensor\n",
    "index_to_download = [] #from original summary file! \n",
    "sensor_IDs_selected = []\n",
    "for site_id in site_IDs_selected:\n",
    "    site1 = sunpower_summary_file_good_288.loc[sunpower_summary_file_good_288['site_ID'] == site_id]\n",
    "    sensor_IDs = site1.sensor_ID.unique()\n",
    "    selected_sensor = np.random.choice(sensor_IDs, 1)[0]\n",
    "    index_to_download.append(sunpower_summary_file.loc[(sunpower_summary_file['site_ID'] == site_id) & (sunpower_summary_file['sensor_ID'] == selected_sensor)].index.tolist()[0])\n",
    "    sensor_IDs_selected.append(selected_sensor)"
   ]
  },
  {
   "cell_type": "code",
   "execution_count": 11,
   "metadata": {},
   "outputs": [
    {
     "name": "stdout",
     "output_type": "stream",
     "text": [
      "[============================================================] 100.0% ...\r"
     ]
    }
   ],
   "source": [
    "df_meta_data = pd.DataFrame(columns=['site_ID', 'sensor_ID', 'start_timestamp', 'end_timestamp', 'duration_days', 'time_sample', 'quantile_95', 'overall_spaersity', \"overall_quality\", \"days_selected\"])\n",
    "counter = 1\n",
    "for data_index in index_to_download:\n",
    "    s3.download_file('pv.insight.sunpower.preprocessed','matrices/{0:04d}.npy'.format(data_index),'{0:04d}.npy'.format(data_index))\n",
    "    power_signals_1 = np.load('{0:04d}.npy'.format(data_index))\n",
    "    valid_indices = filter_for_sparsity(power_signals_1, solver='MOSEK')\n",
    "    day_numbers = np.arange(power_signals_1.shape[1])\n",
    "    good_day_numbers = day_numbers[valid_indices]\n",
    "    list_of_selected_dates = np.random.choice(good_day_numbers, size=number_of_days, replace=False)\n",
    "    power_signals = (power_signals_1 / np.quantile(power_signals_1, quantile_percent))\n",
    "    power_signals_selected_days = power_signals[:,list_of_selected_dates]\n",
    "    if data_index == index_to_download[0]:\n",
    "        power_signals_selected_days_all = power_signals_selected_days\n",
    "    else: \n",
    "        power_signals_selected_days = power_signals_selected_days\n",
    "        power_signals_selected_days_all = np.concatenate([power_signals_selected_days_all, power_signals_selected_days], axis=1)\n",
    "    df_meta_data = df_meta_data.append(sunpower_summary_file.iloc[data_index,:])\n",
    "    df_meta_data.loc[data_index, 'days_selected'] = str(list_of_selected_dates)\n",
    "    progress(counter, number_of_days, status='', bar_length=60)\n",
    "    counter = counter + 1"
   ]
  },
  {
   "cell_type": "code",
   "execution_count": 12,
   "metadata": {},
   "outputs": [],
   "source": [
    "df_data_input = pd.DataFrame(data=power_signals_selected_days_all[:])\n",
    "upload_quantile_values = AWS_upload(df_meta_data,number_of_sites, number_of_days, \"metadata\")\n",
    "upload_data = AWS_upload(df_data_input,number_of_sites, number_of_days, \"data_input\")\n"
   ]
  },
  {
   "cell_type": "code",
   "execution_count": null,
   "metadata": {},
   "outputs": [],
   "source": []
  }
 ],
 "metadata": {
  "kernelspec": {
   "display_name": "Python 3",
   "language": "python",
   "name": "python3"
  },
  "language_info": {
   "codemirror_mode": {
    "name": "ipython",
    "version": 3
   },
   "file_extension": ".py",
   "mimetype": "text/x-python",
   "name": "python",
   "nbconvert_exporter": "python",
   "pygments_lexer": "ipython3",
   "version": "3.7.3"
  }
 },
 "nbformat": 4,
 "nbformat_minor": 2
}
